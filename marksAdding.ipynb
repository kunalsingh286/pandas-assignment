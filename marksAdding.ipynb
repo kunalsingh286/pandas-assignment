{
  "nbformat": 4,
  "nbformat_minor": 0,
  "metadata": {
    "colab": {
      "provenance": [],
      "authorship_tag": "ABX9TyPWq9cRNkdH5frZ7xXlbmPI",
      "include_colab_link": true
    },
    "kernelspec": {
      "name": "python3",
      "display_name": "Python 3"
    },
    "language_info": {
      "name": "python"
    }
  },
  "cells": [
    {
      "cell_type": "markdown",
      "metadata": {
        "id": "view-in-github",
        "colab_type": "text"
      },
      "source": [
        "<a href=\"https://colab.research.google.com/github/kunalsingh286/pandas-assignment/blob/main/marksAdding.ipynb\" target=\"_parent\"><img src=\"https://colab.research.google.com/assets/colab-badge.svg\" alt=\"Open In Colab\"/></a>"
      ]
    },
    {
      "cell_type": "markdown",
      "source": [
        "(Q) Input file contain Roll numbers and marks.                                                                          Create output file that add all the marks."
      ],
      "metadata": {
        "id": "7sukRU-qolxC"
      }
    },
    {
      "cell_type": "code",
      "source": [
        "import pandas as pd\n",
        "\n",
        "# Read the input data\n",
        "input_file = '/mnt/data/input.csv'  # Replace with your actual input file path\n",
        "df = pd.read_csv(input_file)\n",
        "\n",
        "# Group by 'Roll Num' and sum the 'Marks'\n",
        "result = df.groupby('Roll Num', as_index=False).sum()\n",
        "\n",
        "# Write the result to a new CSV file\n",
        "output_file = '/mnt/data/output.csv'  # Replace with your desired output file path\n",
        "result.to_csv(output_file, index=False)\n",
        "\n",
        "print(\"Processing complete. Output saved to:\", output_file)\n"
      ],
      "metadata": {
        "id": "-DV70NMTpgbe"
      },
      "execution_count": null,
      "outputs": []
    }
  ]
}